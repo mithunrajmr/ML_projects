{
 "cells": [
  {
   "cell_type": "markdown",
   "id": "3391aaee",
   "metadata": {},
   "source": [
    "# Mobile Price Classification using Machine Learning Techniques\n",
    "It is a classification model to predict price range of mobile based on certain specifications"
   ]
  },
  {
   "cell_type": "code",
   "execution_count": 1,
   "id": "9a086637",
   "metadata": {},
   "outputs": [],
   "source": [
    "#Importing Libraries\n",
    "import pandas as pd\n",
    "import numpy as np\n",
    "import matplotlib.pyplot as plt\n",
    "import seaborn as sns"
   ]
  },
  {
   "cell_type": "code",
   "execution_count": 2,
   "id": "818b4883",
   "metadata": {},
   "outputs": [
    {
     "data": {
      "text/html": [
       "<div>\n",
       "<style scoped>\n",
       "    .dataframe tbody tr th:only-of-type {\n",
       "        vertical-align: middle;\n",
       "    }\n",
       "\n",
       "    .dataframe tbody tr th {\n",
       "        vertical-align: top;\n",
       "    }\n",
       "\n",
       "    .dataframe thead th {\n",
       "        text-align: right;\n",
       "    }\n",
       "</style>\n",
       "<table border=\"1\" class=\"dataframe\">\n",
       "  <thead>\n",
       "    <tr style=\"text-align: right;\">\n",
       "      <th></th>\n",
       "      <th>battery_power</th>\n",
       "      <th>blue</th>\n",
       "      <th>clock_speed</th>\n",
       "      <th>dual_sim</th>\n",
       "      <th>fc</th>\n",
       "      <th>four_g</th>\n",
       "      <th>int_memory</th>\n",
       "      <th>m_dep</th>\n",
       "      <th>mobile_wt</th>\n",
       "      <th>n_cores</th>\n",
       "      <th>...</th>\n",
       "      <th>px_height</th>\n",
       "      <th>px_width</th>\n",
       "      <th>ram</th>\n",
       "      <th>sc_h</th>\n",
       "      <th>sc_w</th>\n",
       "      <th>talk_time</th>\n",
       "      <th>three_g</th>\n",
       "      <th>touch_screen</th>\n",
       "      <th>wifi</th>\n",
       "      <th>price_range</th>\n",
       "    </tr>\n",
       "  </thead>\n",
       "  <tbody>\n",
       "    <tr>\n",
       "      <th>0</th>\n",
       "      <td>842</td>\n",
       "      <td>0</td>\n",
       "      <td>2.2</td>\n",
       "      <td>0</td>\n",
       "      <td>1</td>\n",
       "      <td>0</td>\n",
       "      <td>7</td>\n",
       "      <td>0.6</td>\n",
       "      <td>188</td>\n",
       "      <td>2</td>\n",
       "      <td>...</td>\n",
       "      <td>20</td>\n",
       "      <td>756</td>\n",
       "      <td>2549</td>\n",
       "      <td>9</td>\n",
       "      <td>7</td>\n",
       "      <td>19</td>\n",
       "      <td>0</td>\n",
       "      <td>0</td>\n",
       "      <td>1</td>\n",
       "      <td>1</td>\n",
       "    </tr>\n",
       "    <tr>\n",
       "      <th>1</th>\n",
       "      <td>1021</td>\n",
       "      <td>1</td>\n",
       "      <td>0.5</td>\n",
       "      <td>1</td>\n",
       "      <td>0</td>\n",
       "      <td>1</td>\n",
       "      <td>53</td>\n",
       "      <td>0.7</td>\n",
       "      <td>136</td>\n",
       "      <td>3</td>\n",
       "      <td>...</td>\n",
       "      <td>905</td>\n",
       "      <td>1988</td>\n",
       "      <td>2631</td>\n",
       "      <td>17</td>\n",
       "      <td>3</td>\n",
       "      <td>7</td>\n",
       "      <td>1</td>\n",
       "      <td>1</td>\n",
       "      <td>0</td>\n",
       "      <td>2</td>\n",
       "    </tr>\n",
       "    <tr>\n",
       "      <th>2</th>\n",
       "      <td>563</td>\n",
       "      <td>1</td>\n",
       "      <td>0.5</td>\n",
       "      <td>1</td>\n",
       "      <td>2</td>\n",
       "      <td>1</td>\n",
       "      <td>41</td>\n",
       "      <td>0.9</td>\n",
       "      <td>145</td>\n",
       "      <td>5</td>\n",
       "      <td>...</td>\n",
       "      <td>1263</td>\n",
       "      <td>1716</td>\n",
       "      <td>2603</td>\n",
       "      <td>11</td>\n",
       "      <td>2</td>\n",
       "      <td>9</td>\n",
       "      <td>1</td>\n",
       "      <td>1</td>\n",
       "      <td>0</td>\n",
       "      <td>2</td>\n",
       "    </tr>\n",
       "    <tr>\n",
       "      <th>3</th>\n",
       "      <td>615</td>\n",
       "      <td>1</td>\n",
       "      <td>2.5</td>\n",
       "      <td>0</td>\n",
       "      <td>0</td>\n",
       "      <td>0</td>\n",
       "      <td>10</td>\n",
       "      <td>0.8</td>\n",
       "      <td>131</td>\n",
       "      <td>6</td>\n",
       "      <td>...</td>\n",
       "      <td>1216</td>\n",
       "      <td>1786</td>\n",
       "      <td>2769</td>\n",
       "      <td>16</td>\n",
       "      <td>8</td>\n",
       "      <td>11</td>\n",
       "      <td>1</td>\n",
       "      <td>0</td>\n",
       "      <td>0</td>\n",
       "      <td>2</td>\n",
       "    </tr>\n",
       "    <tr>\n",
       "      <th>4</th>\n",
       "      <td>1821</td>\n",
       "      <td>1</td>\n",
       "      <td>1.2</td>\n",
       "      <td>0</td>\n",
       "      <td>13</td>\n",
       "      <td>1</td>\n",
       "      <td>44</td>\n",
       "      <td>0.6</td>\n",
       "      <td>141</td>\n",
       "      <td>2</td>\n",
       "      <td>...</td>\n",
       "      <td>1208</td>\n",
       "      <td>1212</td>\n",
       "      <td>1411</td>\n",
       "      <td>8</td>\n",
       "      <td>2</td>\n",
       "      <td>15</td>\n",
       "      <td>1</td>\n",
       "      <td>1</td>\n",
       "      <td>0</td>\n",
       "      <td>1</td>\n",
       "    </tr>\n",
       "  </tbody>\n",
       "</table>\n",
       "<p>5 rows × 21 columns</p>\n",
       "</div>"
      ],
      "text/plain": [
       "   battery_power  blue  clock_speed  dual_sim  fc  four_g  int_memory  m_dep  \\\n",
       "0            842     0          2.2         0   1       0           7    0.6   \n",
       "1           1021     1          0.5         1   0       1          53    0.7   \n",
       "2            563     1          0.5         1   2       1          41    0.9   \n",
       "3            615     1          2.5         0   0       0          10    0.8   \n",
       "4           1821     1          1.2         0  13       1          44    0.6   \n",
       "\n",
       "   mobile_wt  n_cores  ...  px_height  px_width   ram  sc_h  sc_w  talk_time  \\\n",
       "0        188        2  ...         20       756  2549     9     7         19   \n",
       "1        136        3  ...        905      1988  2631    17     3          7   \n",
       "2        145        5  ...       1263      1716  2603    11     2          9   \n",
       "3        131        6  ...       1216      1786  2769    16     8         11   \n",
       "4        141        2  ...       1208      1212  1411     8     2         15   \n",
       "\n",
       "   three_g  touch_screen  wifi  price_range  \n",
       "0        0             0     1            1  \n",
       "1        1             1     0            2  \n",
       "2        1             1     0            2  \n",
       "3        1             0     0            2  \n",
       "4        1             1     0            1  \n",
       "\n",
       "[5 rows x 21 columns]"
      ]
     },
     "execution_count": 2,
     "metadata": {},
     "output_type": "execute_result"
    }
   ],
   "source": [
    "data=pd.read_csv('mobile_price_range_data.csv')\n",
    "data.head()"
   ]
  },
  {
   "cell_type": "code",
   "execution_count": 3,
   "id": "3bc7ff95",
   "metadata": {},
   "outputs": [
    {
     "name": "stderr",
     "output_type": "stream",
     "text": [
      "C:\\Users\\Arpita\\anaconda3\\lib\\site-packages\\seaborn\\_decorators.py:36: FutureWarning: Pass the following variable as a keyword arg: x. From version 0.12, the only valid positional argument will be `data`, and passing other arguments without an explicit keyword will result in an error or misinterpretation.\n",
      "  warnings.warn(\n"
     ]
    },
    {
     "data": {
      "text/plain": [
       "<AxesSubplot:xlabel='price_range', ylabel='count'>"
      ]
     },
     "execution_count": 3,
     "metadata": {},
     "output_type": "execute_result"
    },
    {
     "data": {
      "image/png": "[encoded data removed]",
      "text/plain": [
       "<Figure size 432x288 with 1 Axes>"
      ]
     },
     "metadata": {
      "needs_background": "light"
     },
     "output_type": "display_data"
    }
   ],
   "source": [
    "sns.countplot(data['price_range'])"
   ]
  },
  {
   "cell_type": "code",
   "execution_count": 4,
   "id": "4a67c07d",
   "metadata": {},
   "outputs": [
    {
     "data": {
      "text/plain": [
       "(2000, 21)"
      ]
     },
     "execution_count": 4,
     "metadata": {},
     "output_type": "execute_result"
    }
   ],
   "source": [
    "data.shape"
   ]
  },
  {
   "cell_type": "code",
   "execution_count": 5,
   "id": "46e01d86",
   "metadata": {},
   "outputs": [
    {
     "data": {
      "text/plain": [
       "battery_power    0\n",
       "blue             0\n",
       "clock_speed      0\n",
       "dual_sim         0\n",
       "fc               0\n",
       "four_g           0\n",
       "int_memory       0\n",
       "m_dep            0\n",
       "mobile_wt        0\n",
       "n_cores          0\n",
       "pc               0\n",
       "px_height        0\n",
       "px_width         0\n",
       "ram              0\n",
       "sc_h             0\n",
       "sc_w             0\n",
       "talk_time        0\n",
       "three_g          0\n",
       "touch_screen     0\n",
       "wifi             0\n",
       "price_range      0\n",
       "dtype: int64"
      ]
     },
     "execution_count": 5,
     "metadata": {},
     "output_type": "execute_result"
    }
   ],
   "source": [
    "#Removing null values\n",
    "data.isnull().sum()"
   ]
  },
  {
   "cell_type": "code",
   "execution_count": 6,
   "id": "6befa4c3",
   "metadata": {},
   "outputs": [
    {
     "name": "stdout",
     "output_type": "stream",
     "text": [
      "<class 'pandas.core.frame.DataFrame'>\n",
      "RangeIndex: 2000 entries, 0 to 1999\n",
      "Data columns (total 21 columns):\n",
      " #   Column         Non-Null Count  Dtype  \n",
      "---  ------         --------------  -----  \n",
      " 0   battery_power  2000 non-null   int64  \n",
      " 1   blue           2000 non-null   int64  \n",
      " 2   clock_speed    2000 non-null   float64\n",
      " 3   dual_sim       2000 non-null   int64  \n",
      " 4   fc             2000 non-null   int64  \n",
      " 5   four_g         2000 non-null   int64  \n",
      " 6   int_memory     2000 non-null   int64  \n",
      " 7   m_dep          2000 non-null   float64\n",
      " 8   mobile_wt      2000 non-null   int64  \n",
      " 9   n_cores        2000 non-null   int64  \n",
      " 10  pc             2000 non-null   int64  \n",
      " 11  px_height      2000 non-null   int64  \n",
      " 12  px_width       2000 non-null   int64  \n",
      " 13  ram            2000 non-null   int64  \n",
      " 14  sc_h           2000 non-null   int64  \n",
      " 15  sc_w           2000 non-null   int64  \n",
      " 16  talk_time      2000 non-null   int64  \n",
      " 17  three_g        2000 non-null   int64  \n",
      " 18  touch_screen   2000 non-null   int64  \n",
      " 19  wifi           2000 non-null   int64  \n",
      " 20  price_range    2000 non-null   int64  \n",
      "dtypes: float64(2), int64(19)\n",
      "memory usage: 328.2 KB\n"
     ]
    }
   ],
   "source": [
    "data.info()"
   ]
  },
  {
   "cell_type": "code",
   "execution_count": 7,
   "id": "69c21bbb",
   "metadata": {},
   "outputs": [],
   "source": [
    "#Defining X and Y\n",
    "X = data.drop('price_range',axis=1)\n",
    "Y = data['price_range']"
   ]
  },
  {
   "cell_type": "code",
   "execution_count": 8,
   "id": "68b6470a",
   "metadata": {},
   "outputs": [
    {
     "name": "stdout",
     "output_type": "stream",
     "text": [
      "(1400, 20)\n",
      "(600, 20)\n",
      "(1400,)\n",
      "(600,)\n"
     ]
    }
   ],
   "source": [
    "#Splitting data into training and test data\n",
    "from sklearn.model_selection import train_test_split\n",
    "X_train, X_test, Y_train, Y_test = train_test_split(X,Y,test_size=0.30,random_state=42)\n",
    "print(X_train.shape)\n",
    "print(X_test.shape)\n",
    "print(Y_train.shape)\n",
    "print(Y_test.shape)"
   ]
  },
  {
   "cell_type": "code",
   "execution_count": 9,
   "id": "1cf43349",
   "metadata": {},
   "outputs": [],
   "source": [
    "from sklearn.preprocessing import StandardScaler\n",
    "sc = StandardScaler()\n",
    "X_train = sc.fit_transform(X_train)\n",
    "X_test = sc.transform(X_test)"
   ]
  },
  {
   "cell_type": "code",
   "execution_count": 10,
   "id": "d842cecf",
   "metadata": {},
   "outputs": [
    {
     "data": {
      "text/plain": [
       "array([[-0.7638951 ,  1.01294087, -1.12231393, ..., -1.80067327,\n",
       "         0.99146499,  1.00142959],\n",
       "       [-0.09785191,  1.01294087, -1.24355155, ...,  0.55534783,\n",
       "         0.99146499,  1.00142959],\n",
       "       [ 0.62915118, -0.98722446,  0.69625031, ...,  0.55534783,\n",
       "         0.99146499, -0.99857245],\n",
       "       ...,\n",
       "       [ 1.32906098,  1.01294087, -1.24355155, ...,  0.55534783,\n",
       "        -1.00860848,  1.00142959],\n",
       "       [ 1.55032279, -0.98722446, -0.75860108, ..., -1.80067327,\n",
       "         0.99146499,  1.00142959],\n",
       "       [-1.36672064,  1.01294087, -1.12231393, ...,  0.55534783,\n",
       "        -1.00860848, -0.99857245]])"
      ]
     },
     "execution_count": 10,
     "metadata": {},
     "output_type": "execute_result"
    }
   ],
   "source": [
    "X_train"
   ]
  },
  {
   "cell_type": "code",
   "execution_count": 11,
   "id": "b268625a",
   "metadata": {},
   "outputs": [
    {
     "data": {
      "text/plain": [
       "array([[ 0.91588842, -0.98722446,  1.18120077, ...,  0.55534783,\n",
       "         0.99146499, -0.99857245],\n",
       "       [-0.13171851, -0.98722446, -1.24355155, ...,  0.55534783,\n",
       "        -1.00860848, -0.99857245],\n",
       "       [ 1.6519226 , -0.98722446,  1.66615124, ...,  0.55534783,\n",
       "         0.99146499, -0.99857245],\n",
       "       ...,\n",
       "       [-1.54734253,  1.01294087, -1.24355155, ..., -1.80067327,\n",
       "         0.99146499,  1.00142959],\n",
       "       [-0.43426017,  1.01294087, -0.03117539, ...,  0.55534783,\n",
       "        -1.00860848, -0.99857245],\n",
       "       [-0.40490911,  1.01294087,  0.69625031, ...,  0.55534783,\n",
       "         0.99146499, -0.99857245]])"
      ]
     },
     "execution_count": 11,
     "metadata": {},
     "output_type": "execute_result"
    }
   ],
   "source": [
    "X_test"
   ]
  },
  {
   "cell_type": "markdown",
   "id": "91cd567b",
   "metadata": {},
   "source": [
    "## a) Logistic Regression"
   ]
  },
  {
   "cell_type": "code",
   "execution_count": 12,
   "id": "3292edf6",
   "metadata": {},
   "outputs": [
    {
     "data": {
      "text/plain": [
       "LogisticRegression()"
      ]
     },
     "execution_count": 12,
     "metadata": {},
     "output_type": "execute_result"
    }
   ],
   "source": [
    "from sklearn.linear_model import LogisticRegression  \n",
    "lr = LogisticRegression()\n",
    "lr.fit(X_train,Y_train)"
   ]
  },
  {
   "cell_type": "code",
   "execution_count": 13,
   "id": "2a26cccd",
   "metadata": {},
   "outputs": [
    {
     "name": "stdout",
     "output_type": "stream",
     "text": [
      "[0 2 1 3 1 1 2 0 3 1 0 1 2 3 3 2 3 3 1 0 0 2 1 2 0 1 3 2 2 0 0 0 3 0 1 1 2\n",
      " 0 3 0 2 3 2 0 2 2 2 1 3 1 3 1 0 0 1 0 1 3 0 0 1 3 3 1 0 0 3 3 1 2 2 2 0 1\n",
      " 2 0 1 3 2 2 3 2 1 0 1 3 1 3 3 0 3 3 2 1 3 2 2 3 1 1 0 0 1 0 0 3 2 0 1 1 0\n",
      " 0 3 1 3 2 3 2 0 2 1 3 2 1 3 3 0 2 0 2 3 0 2 2 0 3 1 0 0 2 3 1 3 2 0 0 0 1\n",
      " 1 2 3 1 1 0 2 2 0 1 0 1 2 3 3 3 1 0 1 2 2 3 3 0 1 0 3 1 1 2 1 0 0 0 0 0 3\n",
      " 2 0 3 0 0 0 0 1 3 3 1 0 1 1 1 1 2 2 3 3 3 1 2 0 0 0 2 1 1 3 1 1 2 1 1 3 2\n",
      " 3 0 0 2 1 3 0 1 2 0 2 3 2 0 1 3 3 0 1 3 3 3 0 3 1 2 3 3 2 1 0 3 3 1 3 3 3\n",
      " 3 3 0 1 2 2 2 3 0 2 3 2 2 2 1 0 2 0 3 3 1 3 1 0 3 1 2 0 0 3 0 1 2 3 3 3 1\n",
      " 1 0 1 3 3 0 1 2 2 0 3 3 2 3 2 3 2 0 2 1 1 1 0 0 0 3 3 3 1 0 1 0 1 2 3 0 3\n",
      " 3 2 1 3 0 0 3 1 3 2 0 1 1 1 1 1 3 1 0 0 3 3 0 3 0 0 2 0 1 2 2 2 3 0 3 2 3\n",
      " 3 3 3 2 1 1 0 3 1 3 3 0 2 3 2 3 3 3 0 0 2 3 0 0 2 3 2 1 1 2 1 3 1 3 1 2 0\n",
      " 0 1 0 1 0 1 0 2 2 3 2 1 1 2 1 1 3 1 0 0 3 0 1 0 1 2 2 3 0 2 0 1 1 3 3 0 2\n",
      " 0 2 0 0 3 3 0 2 2 2 3 1 1 0 1 3 1 0 3 1 0 0 3 2 3 2 0 2 1 0 1 2 3 2 1 1 0\n",
      " 1 2 2 1 1 1 3 1 2 1 3 2 3 0 0 1 2 3 1 1 2 3 0 2 2 3 2 2 2 3 2 1 1 0 2 0 3\n",
      " 1 0 2 1 1 3 3 3 3 2 0 3 1 2 0 3 3 1 2 2 3 2 1 3 0 2 1 3 1 2 1 3 1 1 2 3 1\n",
      " 0 0 2 3 3 1 1 2 0 2 0 1 3 1 0 2 3 1 1 3 0 2 0 0 1 2 3 1 2 1 3 2 1 2 3 3 2\n",
      " 0 0 1 2 1 0 1 0]\n"
     ]
    }
   ],
   "source": [
    "pv1 = lr.predict(X_test)\n",
    "print(pv1)"
   ]
  },
  {
   "cell_type": "code",
   "execution_count": 14,
   "id": "a793d542",
   "metadata": {},
   "outputs": [
    {
     "name": "stdout",
     "output_type": "stream",
     "text": [
      "Accuracy Score: 0.9583333333333334\n",
      "\n",
      "Confusion Matrix:\n",
      " [[144   7   0   0]\n",
      " [  3 142   1   0]\n",
      " [  0   7 135   6]\n",
      " [  0   0   1 154]]\n",
      "\n",
      "Classification Report:\n",
      "               precision    recall  f1-score   support\n",
      "\n",
      "           0       0.98      0.95      0.97       151\n",
      "           1       0.91      0.97      0.94       146\n",
      "           2       0.99      0.91      0.95       148\n",
      "           3       0.96      0.99      0.98       155\n",
      "\n",
      "    accuracy                           0.96       600\n",
      "   macro avg       0.96      0.96      0.96       600\n",
      "weighted avg       0.96      0.96      0.96       600\n",
      "\n"
     ]
    }
   ],
   "source": [
    "from sklearn.metrics import accuracy_score, confusion_matrix, classification_report\n",
    "a1 = accuracy_score(Y_test,pv1)\n",
    "print('Accuracy Score:',a1)\n",
    "print('\\nConfusion Matrix:\\n',confusion_matrix(Y_test,pv1))\n",
    "print('\\nClassification Report:\\n',classification_report(Y_test,pv1))"
   ]
  },
  {
   "cell_type": "markdown",
   "id": "ee33edf3",
   "metadata": {},
   "source": [
    "## b) KNN Classification"
   ]
  },
  {
   "cell_type": "code",
   "execution_count": 15,
   "id": "0b2653dc",
   "metadata": {},
   "outputs": [
    {
     "data": {
      "text/plain": [
       "KNeighborsClassifier(n_neighbors=15)"
      ]
     },
     "execution_count": 15,
     "metadata": {},
     "output_type": "execute_result"
    }
   ],
   "source": [
    "from sklearn.neighbors import KNeighborsClassifier\n",
    "knn = KNeighborsClassifier(n_neighbors=15)\n",
    "knn.fit(X_train,Y_train)"
   ]
  },
  {
   "cell_type": "code",
   "execution_count": 16,
   "id": "e9269eb9",
   "metadata": {},
   "outputs": [
    {
     "name": "stdout",
     "output_type": "stream",
     "text": [
      "[0 1 0 2 1 2 1 0 3 1 1 0 1 3 2 2 2 3 1 0 0 1 0 1 0 1 2 2 1 0 0 0 2 2 3 1 2\n",
      " 0 3 0 2 3 3 0 2 0 1 0 3 0 3 0 1 0 1 2 3 3 0 0 1 2 2 0 0 0 3 3 2 1 0 1 0 1\n",
      " 2 0 1 3 2 1 3 0 1 1 0 3 1 2 3 0 2 3 3 1 3 1 2 3 1 2 0 0 2 0 0 3 2 0 0 1 0\n",
      " 0 2 1 3 2 3 2 0 2 0 1 3 1 3 3 0 2 1 2 2 0 1 2 0 2 1 1 1 1 3 0 3 1 0 0 1 0\n",
      " 1 2 3 0 2 0 2 2 0 2 0 0 3 3 3 3 1 1 1 0 2 3 2 1 0 0 3 0 0 1 0 1 0 0 0 0 2\n",
      " 3 1 2 0 1 0 1 1 2 2 2 0 3 2 0 1 1 1 3 2 1 1 2 0 2 0 2 2 1 1 1 0 1 0 1 3 1\n",
      " 2 0 0 2 0 2 1 1 2 0 1 3 2 0 0 3 1 0 1 3 2 3 0 2 1 3 3 3 3 3 2 3 3 2 3 2 2\n",
      " 3 3 1 1 2 1 0 2 0 2 3 2 1 2 2 0 1 1 1 3 1 2 0 0 3 2 3 0 0 3 0 0 1 3 2 2 1\n",
      " 0 1 0 3 2 0 2 1 2 0 2 3 1 3 1 3 3 0 3 1 3 2 0 0 0 2 3 3 1 0 2 0 1 2 2 0 2\n",
      " 1 1 0 3 0 0 1 0 3 2 0 2 2 1 1 1 3 2 0 0 3 2 0 2 0 0 1 0 0 1 1 2 3 0 3 2 3\n",
      " 3 3 2 3 2 1 0 3 1 2 3 0 2 3 1 2 3 3 0 1 0 3 0 0 2 2 0 1 0 2 1 1 0 2 1 2 0\n",
      " 0 1 0 1 0 1 1 1 3 2 1 1 1 1 1 0 1 0 0 1 3 0 3 1 2 2 1 2 0 2 1 1 1 3 3 0 2\n",
      " 1 1 0 0 3 2 0 0 3 2 3 1 1 0 1 3 1 0 3 1 0 0 3 1 2 2 0 3 2 1 0 2 2 1 1 0 0\n",
      " 0 0 2 0 1 0 2 1 1 0 2 1 2 1 0 1 2 3 0 1 2 3 0 2 1 2 2 2 1 3 2 2 1 0 0 0 3\n",
      " 1 1 2 1 2 2 3 2 3 3 0 3 2 1 1 3 2 0 2 3 2 1 2 3 0 1 1 3 2 2 1 2 1 1 1 3 1\n",
      " 0 0 0 3 2 1 3 2 0 2 1 1 1 1 0 1 2 2 1 3 0 2 1 0 2 1 3 2 3 0 2 1 1 0 1 3 2\n",
      " 0 0 1 3 1 0 2 1]\n"
     ]
    }
   ],
   "source": [
    "pv2 = knn.predict(X_test)\n",
    "print(pv2)"
   ]
  },
  {
   "cell_type": "code",
   "execution_count": 17,
   "id": "d48c919f",
   "metadata": {},
   "outputs": [
    {
     "name": "stdout",
     "output_type": "stream",
     "text": [
      "Accuracy Score:\n",
      " 0.5616666666666666\n",
      "\n",
      "Confusion Matrix: [[115  31   5   0]\n",
      " [ 41  71  27   7]\n",
      " [ 11  56  61  20]\n",
      " [  1   9  55  90]]\n",
      "\n",
      "Classification Report:\n",
      "               precision    recall  f1-score   support\n",
      "\n",
      "           0       0.68      0.76      0.72       151\n",
      "           1       0.43      0.49      0.45       146\n",
      "           2       0.41      0.41      0.41       148\n",
      "           3       0.77      0.58      0.66       155\n",
      "\n",
      "    accuracy                           0.56       600\n",
      "   macro avg       0.57      0.56      0.56       600\n",
      "weighted avg       0.58      0.56      0.56       600\n",
      "\n"
     ]
    }
   ],
   "source": [
    "from sklearn.metrics import accuracy_score, confusion_matrix, classification_report\n",
    "a2 = accuracy_score(Y_test,pv2)\n",
    "print('Accuracy Score:\\n',a2)\n",
    "print('\\nConfusion Matrix:',confusion_matrix(Y_test,pv2))\n",
    "print('\\nClassification Report:\\n',classification_report(Y_test,pv2))"
   ]
  },
  {
   "cell_type": "markdown",
   "id": "46318d3c",
   "metadata": {},
   "source": [
    "## c.1) SVM Classifier with linear kernel"
   ]
  },
  {
   "cell_type": "code",
   "execution_count": 18,
   "id": "adb37da4",
   "metadata": {},
   "outputs": [
    {
     "data": {
      "text/plain": [
       "SVC(C=0.01, kernel='linear')"
      ]
     },
     "execution_count": 18,
     "metadata": {},
     "output_type": "execute_result"
    }
   ],
   "source": [
    "from sklearn.svm import SVC\n",
    "svm_linear = SVC(kernel='linear',C=0.01)\n",
    "svm_linear.fit(X_train,Y_train)"
   ]
  },
  {
   "cell_type": "code",
   "execution_count": 19,
   "id": "a1844122",
   "metadata": {},
   "outputs": [
    {
     "name": "stdout",
     "output_type": "stream",
     "text": [
      "[0 2 1 3 1 1 2 0 3 1 0 1 1 3 2 2 3 3 1 0 0 1 1 2 0 1 3 2 2 0 0 0 3 0 2 1 2\n",
      " 0 3 0 2 3 2 0 2 2 2 1 3 1 3 1 0 0 1 0 1 3 0 0 1 3 3 1 0 0 3 3 1 2 2 2 0 1\n",
      " 2 0 1 3 2 2 3 1 1 0 1 3 2 3 3 0 3 3 2 1 3 2 2 3 2 1 0 0 1 0 1 3 2 0 1 1 0\n",
      " 0 3 1 3 2 3 2 0 2 1 3 2 1 3 3 0 2 0 2 3 0 2 2 0 2 1 0 0 2 2 0 2 2 0 0 0 1\n",
      " 1 2 3 1 1 0 2 2 0 2 0 2 2 3 3 2 1 0 1 2 2 2 2 0 1 0 3 1 1 2 1 0 0 0 0 0 3\n",
      " 2 0 2 0 0 0 0 1 3 3 1 0 1 1 1 1 2 2 2 2 3 1 2 0 0 0 2 1 1 3 1 1 2 1 1 3 1\n",
      " 3 0 0 2 1 3 0 1 1 0 1 3 2 0 1 2 3 0 1 3 2 3 0 3 1 2 3 3 2 1 0 3 3 1 3 3 3\n",
      " 3 3 0 1 2 2 2 2 0 2 3 2 2 2 1 0 2 0 2 3 1 3 1 0 3 1 2 0 0 2 0 1 2 3 3 3 1\n",
      " 1 0 1 3 3 0 1 2 2 0 3 3 2 3 1 3 2 0 2 1 1 1 0 0 0 2 3 3 1 0 1 1 1 2 2 0 2\n",
      " 3 2 1 3 0 0 3 1 3 2 0 1 1 1 1 1 3 1 0 0 2 3 0 3 0 0 2 0 1 2 2 2 3 0 3 2 3\n",
      " 3 3 3 2 1 1 0 3 1 3 3 0 2 3 2 3 3 3 0 0 2 3 0 0 2 3 2 1 1 2 1 3 1 2 1 2 0\n",
      " 0 1 0 1 0 2 0 2 2 3 2 1 1 2 1 1 3 1 0 0 3 0 1 0 1 2 2 3 0 2 0 1 1 2 3 0 2\n",
      " 0 2 0 0 3 3 0 2 2 2 3 1 1 0 1 3 1 0 3 1 0 0 3 2 3 2 0 2 0 0 1 2 3 2 1 1 0\n",
      " 1 2 2 1 1 1 3 1 2 1 2 2 3 0 0 1 2 3 1 1 2 3 0 2 2 3 2 2 2 3 2 1 1 0 1 0 3\n",
      " 1 0 2 1 1 3 3 3 3 2 0 3 1 2 0 3 3 2 2 2 3 2 1 3 0 2 1 3 1 1 1 3 1 1 2 3 1\n",
      " 0 0 2 3 3 1 1 2 0 2 0 1 3 1 0 2 3 1 1 3 0 2 0 0 2 2 3 1 2 1 3 2 1 2 3 3 2\n",
      " 0 1 1 2 1 0 1 0]\n"
     ]
    }
   ],
   "source": [
    "pv3 = svm_linear.predict(X_test)\n",
    "print(pv3)"
   ]
  },
  {
   "cell_type": "code",
   "execution_count": 20,
   "id": "9081bacd",
   "metadata": {},
   "outputs": [
    {
     "name": "stdout",
     "output_type": "stream",
     "text": [
      "Accuracy Score: 0.905\n",
      "\n",
      "Confusion Matrix:  [[141  10   0   0]\n",
      " [  5 134   7   0]\n",
      " [  0  14 132   2]\n",
      " [  0   0  19 136]]\n",
      "\n",
      "Classification Report:\n",
      "               precision    recall  f1-score   support\n",
      "\n",
      "           0       0.97      0.93      0.95       151\n",
      "           1       0.85      0.92      0.88       146\n",
      "           2       0.84      0.89      0.86       148\n",
      "           3       0.99      0.88      0.93       155\n",
      "\n",
      "    accuracy                           0.91       600\n",
      "   macro avg       0.91      0.91      0.91       600\n",
      "weighted avg       0.91      0.91      0.91       600\n",
      "\n"
     ]
    }
   ],
   "source": [
    "from sklearn.metrics import accuracy_score, confusion_matrix, classification_report\n",
    "a3 = accuracy_score(Y_test,pv3)\n",
    "print('Accuracy Score:',a3)\n",
    "print('\\nConfusion Matrix: ',confusion_matrix(Y_test,pv3))\n",
    "print('\\nClassification Report:\\n',classification_report(Y_test,pv3))"
   ]
  },
  {
   "cell_type": "markdown",
   "id": "41145703",
   "metadata": {},
   "source": [
    "## c.2) SVM Classifier with rbf kernel"
   ]
  },
  {
   "cell_type": "code",
   "execution_count": 21,
   "id": "22ae75fe",
   "metadata": {},
   "outputs": [
    {
     "data": {
      "text/plain": [
       "SVC(C=1)"
      ]
     },
     "execution_count": 21,
     "metadata": {},
     "output_type": "execute_result"
    }
   ],
   "source": [
    "from sklearn.svm import SVC\n",
    "svm_rbf = SVC(kernel='rbf',C=1)\n",
    "svm_rbf.fit(X_train,Y_train)"
   ]
  },
  {
   "cell_type": "code",
   "execution_count": 22,
   "id": "02daa1f1",
   "metadata": {},
   "outputs": [
    {
     "name": "stdout",
     "output_type": "stream",
     "text": [
      "[0 2 1 3 1 1 2 0 3 1 0 1 1 3 2 2 3 3 1 0 0 2 0 2 0 1 3 2 2 0 0 0 3 0 1 1 2\n",
      " 0 3 0 2 3 2 0 2 3 1 1 3 1 3 1 0 0 1 0 1 3 0 0 1 3 3 1 0 0 3 3 2 2 1 3 0 1\n",
      " 2 0 0 3 2 2 3 2 1 0 1 3 1 3 3 0 3 3 2 1 3 2 2 3 1 1 0 0 1 1 0 3 2 0 0 1 0\n",
      " 0 3 1 3 2 3 2 0 2 1 3 2 1 3 3 0 2 0 2 3 0 2 2 0 2 1 0 1 2 3 0 3 2 0 0 0 1\n",
      " 1 2 3 1 1 0 2 2 0 1 0 1 2 3 3 3 1 0 0 2 2 3 2 1 0 0 3 1 1 2 1 1 0 0 0 0 3\n",
      " 2 0 2 0 0 0 0 1 3 3 2 0 1 2 0 1 1 2 3 3 3 1 2 0 0 0 2 2 1 3 1 0 2 2 1 3 1\n",
      " 3 0 0 2 1 3 0 1 2 0 1 3 2 0 1 3 3 0 1 3 2 3 0 3 1 2 3 3 2 1 1 3 3 1 3 3 3\n",
      " 2 3 1 1 2 2 2 3 0 1 3 2 2 2 1 0 1 0 2 3 1 3 1 1 3 1 2 0 0 3 0 1 2 3 2 3 1\n",
      " 0 0 1 3 3 0 1 2 2 0 3 3 2 3 1 3 2 0 2 1 1 1 0 0 1 3 3 3 1 0 1 0 1 2 2 0 3\n",
      " 3 2 1 3 0 0 3 1 3 2 0 1 1 1 1 1 3 1 0 0 3 3 0 3 0 0 2 0 1 1 2 2 3 0 2 2 3\n",
      " 3 3 3 2 1 1 0 3 1 3 3 0 2 3 1 3 3 3 1 0 2 3 0 0 2 3 2 1 1 2 1 3 1 2 1 2 0\n",
      " 0 1 0 1 0 2 0 2 3 3 2 1 1 2 1 0 3 1 0 0 3 0 2 0 1 1 2 3 0 2 1 1 1 2 3 0 2\n",
      " 0 2 0 0 3 3 0 2 2 2 3 1 1 0 1 3 1 0 3 1 0 0 3 2 3 2 0 2 1 0 1 2 3 2 1 1 0\n",
      " 1 2 2 1 1 1 3 1 2 1 2 2 3 0 0 1 2 3 0 1 2 3 0 2 2 3 2 2 2 3 2 1 1 0 2 0 3\n",
      " 1 0 2 1 2 3 3 3 3 2 0 2 1 2 0 3 3 1 2 2 3 2 1 3 0 3 1 3 1 2 1 3 1 1 2 3 1\n",
      " 0 0 2 3 2 1 1 2 0 2 0 1 3 1 0 2 3 1 1 3 0 2 0 0 2 1 3 1 2 0 3 2 1 2 3 3 2\n",
      " 0 0 1 2 1 0 1 0]\n"
     ]
    }
   ],
   "source": [
    "pv = svm_rbf.predict(X_test)\n",
    "print(pv)"
   ]
  },
  {
   "cell_type": "code",
   "execution_count": 23,
   "id": "ffb759a2",
   "metadata": {},
   "outputs": [
    {
     "name": "stdout",
     "output_type": "stream",
     "text": [
      "Accuracy Score: 0.87\n",
      "\n",
      "Confusion Matrix:  [[135  16   0   0]\n",
      " [ 14 123   9   0]\n",
      " [  0  19 122   7]\n",
      " [  0   0  13 142]]\n",
      "\n",
      "Classification Report:\n",
      "               precision    recall  f1-score   support\n",
      "\n",
      "           0       0.91      0.89      0.90       151\n",
      "           1       0.78      0.84      0.81       146\n",
      "           2       0.85      0.82      0.84       148\n",
      "           3       0.95      0.92      0.93       155\n",
      "\n",
      "    accuracy                           0.87       600\n",
      "   macro avg       0.87      0.87      0.87       600\n",
      "weighted avg       0.87      0.87      0.87       600\n",
      "\n"
     ]
    }
   ],
   "source": [
    "from sklearn.metrics import accuracy_score, confusion_matrix, classification_report\n",
    "a = accuracy_score(Y_test,pv)\n",
    "print('Accuracy Score:',a)\n",
    "print('\\nConfusion Matrix: ',confusion_matrix(Y_test,pv))\n",
    "print('\\nClassification Report:\\n',classification_report(Y_test,pv))"
   ]
  },
  {
   "cell_type": "markdown",
   "id": "3325e235",
   "metadata": {},
   "source": [
    "## d) Decision Tree Classifier"
   ]
  },
  {
   "cell_type": "code",
   "execution_count": 24,
   "id": "ec976c45",
   "metadata": {},
   "outputs": [
    {
     "data": {
      "text/plain": [
       "DecisionTreeClassifier(criterion='entropy')"
      ]
     },
     "execution_count": 24,
     "metadata": {},
     "output_type": "execute_result"
    }
   ],
   "source": [
    "from sklearn.tree import DecisionTreeClassifier\n",
    "dt = DecisionTreeClassifier(criterion='entropy')\n",
    "dt.fit(X_train , Y_train)"
   ]
  },
  {
   "cell_type": "code",
   "execution_count": 25,
   "id": "120bd490",
   "metadata": {},
   "outputs": [
    {
     "name": "stdout",
     "output_type": "stream",
     "text": [
      "[0 2 1 3 1 1 2 0 3 1 0 1 2 3 2 2 3 3 1 0 0 1 1 2 0 2 3 2 2 0 0 0 3 0 1 1 2\n",
      " 0 3 1 2 3 2 0 3 3 1 1 3 1 3 1 0 0 0 0 1 2 0 0 1 3 3 1 0 1 3 3 1 2 1 2 0 1\n",
      " 2 0 1 3 2 1 3 2 1 0 1 3 1 3 3 0 2 3 2 1 3 2 2 3 1 1 0 0 1 0 0 3 2 0 0 1 0\n",
      " 0 3 1 2 2 2 2 0 2 1 3 2 1 3 3 0 3 0 2 3 0 2 2 0 2 1 0 0 2 3 0 3 2 0 0 0 1\n",
      " 2 3 3 1 1 0 2 2 0 1 0 1 2 3 3 2 1 0 0 2 2 2 3 1 0 0 3 1 2 2 1 0 0 0 0 0 3\n",
      " 2 0 3 0 0 0 0 1 3 3 1 0 1 2 1 1 2 2 2 2 3 1 2 0 0 1 2 1 1 3 1 0 2 1 1 3 2\n",
      " 3 0 0 1 1 3 0 0 2 0 2 3 2 1 1 2 3 0 1 3 3 3 0 3 1 2 3 3 2 1 1 3 3 1 3 3 3\n",
      " 3 3 1 1 1 3 1 3 1 1 3 2 2 2 1 0 2 0 2 3 0 3 2 1 3 1 2 0 0 3 0 1 2 3 3 3 0\n",
      " 0 0 1 3 3 0 1 1 2 0 3 3 3 3 2 3 2 0 2 1 1 1 0 0 1 2 3 3 1 0 1 0 2 3 3 1 3\n",
      " 3 2 1 3 0 0 3 1 3 2 0 1 2 1 0 1 3 1 0 0 3 3 0 3 0 0 2 0 1 2 2 2 3 0 3 2 2\n",
      " 3 3 3 2 1 1 0 3 1 3 3 0 2 3 2 3 3 3 1 0 2 3 0 0 2 3 1 1 1 2 1 2 1 3 1 2 0\n",
      " 0 1 0 1 0 1 1 2 2 3 2 1 1 2 1 1 3 1 0 1 3 0 1 0 1 1 3 3 0 2 0 1 1 2 3 0 2\n",
      " 0 2 0 0 3 3 0 2 2 2 3 1 2 0 0 3 1 0 3 2 0 0 3 2 3 2 0 3 0 0 1 2 3 2 1 1 0\n",
      " 1 2 1 1 1 1 3 2 2 0 3 2 3 0 0 1 2 3 1 2 2 3 1 2 2 3 1 2 2 3 1 1 1 0 1 0 3\n",
      " 1 0 3 1 2 3 3 3 3 2 0 2 1 2 0 3 3 1 2 2 3 1 1 3 1 2 1 2 1 2 1 3 1 1 3 3 1\n",
      " 0 0 2 3 3 1 1 2 0 3 0 1 3 0 0 2 3 1 1 3 0 2 0 0 1 2 3 1 2 1 3 2 1 1 3 3 3\n",
      " 0 1 1 3 1 0 1 0]\n"
     ]
    }
   ],
   "source": [
    "pv4 = dt.predict(X_test)\n",
    "print(pv4)"
   ]
  },
  {
   "cell_type": "code",
   "execution_count": 26,
   "id": "dfe04afd",
   "metadata": {},
   "outputs": [
    {
     "name": "stdout",
     "output_type": "stream",
     "text": [
      "Accuracy Score: 0.8433333333333334\n",
      "\n",
      "Confusion Matrix:  [[131  20   0   0]\n",
      " [ 14 124   8   0]\n",
      " [  0  19 112  17]\n",
      " [  0   0  16 139]]\n",
      "\n",
      "Classification Report:\n",
      "               precision    recall  f1-score   support\n",
      "\n",
      "           0       0.90      0.87      0.89       151\n",
      "           1       0.76      0.85      0.80       146\n",
      "           2       0.82      0.76      0.79       148\n",
      "           3       0.89      0.90      0.89       155\n",
      "\n",
      "    accuracy                           0.84       600\n",
      "   macro avg       0.84      0.84      0.84       600\n",
      "weighted avg       0.85      0.84      0.84       600\n",
      "\n"
     ]
    }
   ],
   "source": [
    "from sklearn.metrics import accuracy_score, confusion_matrix, classification_report\n",
    "a4 = accuracy_score(Y_test,pv4)\n",
    "print('Accuracy Score:',a4)\n",
    "print('\\nConfusion Matrix: ',confusion_matrix(Y_test,pv4))\n",
    "print('\\nClassification Report:\\n',classification_report(Y_test,pv4))"
   ]
  },
  {
   "cell_type": "markdown",
   "id": "f54b57e9",
   "metadata": {},
   "source": [
    "## e) Random Forest Classifier"
   ]
  },
  {
   "cell_type": "code",
   "execution_count": 27,
   "id": "8c5e9d9a",
   "metadata": {},
   "outputs": [
    {
     "data": {
      "text/plain": [
       "RandomForestClassifier(criterion='entropy', max_depth=6, n_estimators=70)"
      ]
     },
     "execution_count": 27,
     "metadata": {},
     "output_type": "execute_result"
    }
   ],
   "source": [
    "from sklearn.ensemble import RandomForestClassifier\n",
    "rf = RandomForestClassifier(n_estimators=70,criterion='entropy',max_depth=6)\n",
    "rf.fit(X_train , Y_train)"
   ]
  },
  {
   "cell_type": "code",
   "execution_count": 28,
   "id": "1191a0ef",
   "metadata": {},
   "outputs": [
    {
     "name": "stdout",
     "output_type": "stream",
     "text": [
      "[0 2 1 3 1 1 2 0 3 1 0 1 2 3 2 2 3 3 1 0 0 1 1 2 0 2 3 2 2 0 0 0 3 0 1 1 2\n",
      " 0 3 1 2 3 2 0 3 3 1 1 3 1 3 1 0 0 0 0 1 2 0 0 1 3 3 1 0 1 3 3 1 2 1 2 0 1\n",
      " 2 0 1 3 2 1 3 2 1 0 1 3 1 3 3 0 2 3 2 1 3 2 2 3 1 1 0 0 1 0 0 3 2 0 0 1 0\n",
      " 0 3 1 2 2 2 2 0 2 1 3 2 1 3 3 0 3 0 2 3 0 2 2 0 2 1 0 0 2 3 0 3 2 0 0 0 1\n",
      " 2 3 3 1 1 0 2 2 0 1 0 1 2 3 3 2 1 0 0 2 2 2 3 1 0 0 3 1 2 2 1 0 0 0 0 0 3\n",
      " 2 0 3 0 0 0 0 1 3 3 1 0 1 2 1 1 2 2 2 2 3 1 2 0 0 1 2 1 1 3 1 0 2 1 1 3 2\n",
      " 3 0 0 1 1 3 0 0 2 0 2 3 2 1 1 2 3 0 1 3 3 3 0 3 1 2 3 3 2 1 1 3 3 1 3 3 3\n",
      " 3 3 1 1 1 3 1 3 1 1 3 2 2 2 1 0 2 0 2 3 0 3 2 1 3 1 2 0 0 3 0 1 2 3 3 3 0\n",
      " 0 0 1 3 3 0 1 1 2 0 3 3 3 3 2 3 2 0 2 1 1 1 0 0 1 2 3 3 1 0 1 0 2 3 3 1 3\n",
      " 3 2 1 3 0 0 3 1 3 2 0 1 2 1 0 1 3 1 0 0 3 3 0 3 0 0 2 0 1 2 2 2 3 0 3 2 2\n",
      " 3 3 3 2 1 1 0 3 1 3 3 0 2 3 2 3 3 3 1 0 2 3 0 0 2 3 1 1 1 2 1 2 1 3 1 2 0\n",
      " 0 1 0 1 0 1 1 2 2 3 2 1 1 2 1 1 3 1 0 1 3 0 1 0 1 1 3 3 0 2 0 1 1 2 3 0 2\n",
      " 0 2 0 0 3 3 0 2 2 2 3 1 2 0 0 3 1 0 3 2 0 0 3 2 3 2 0 3 0 0 1 2 3 2 1 1 0\n",
      " 1 2 1 1 1 1 3 2 2 0 3 2 3 0 0 1 2 3 1 2 2 3 1 2 2 3 1 2 2 3 1 1 1 0 1 0 3\n",
      " 1 0 3 1 2 3 3 3 3 2 0 2 1 2 0 3 3 1 2 2 3 1 1 3 1 2 1 2 1 2 1 3 1 1 3 3 1\n",
      " 0 0 2 3 3 1 1 2 0 3 0 1 3 0 0 2 3 1 1 3 0 2 0 0 1 2 3 1 2 1 3 2 1 1 3 3 3\n",
      " 0 1 1 3 1 0 1 0]\n"
     ]
    }
   ],
   "source": [
    "pv5 = dt.predict(X_test)\n",
    "print(pv5)"
   ]
  },
  {
   "cell_type": "code",
   "execution_count": 29,
   "id": "09c4f828",
   "metadata": {},
   "outputs": [
    {
     "name": "stdout",
     "output_type": "stream",
     "text": [
      "Accuracy Score: 0.8433333333333334\n",
      "\n",
      "Confusion Matrix:  [[131  20   0   0]\n",
      " [ 14 124   8   0]\n",
      " [  0  19 112  17]\n",
      " [  0   0  16 139]]\n",
      "\n",
      "Classification Report:\n",
      "               precision    recall  f1-score   support\n",
      "\n",
      "           0       0.90      0.87      0.89       151\n",
      "           1       0.76      0.85      0.80       146\n",
      "           2       0.82      0.76      0.79       148\n",
      "           3       0.89      0.90      0.89       155\n",
      "\n",
      "    accuracy                           0.84       600\n",
      "   macro avg       0.84      0.84      0.84       600\n",
      "weighted avg       0.85      0.84      0.84       600\n",
      "\n"
     ]
    }
   ],
   "source": [
    "from sklearn.metrics import accuracy_score, confusion_matrix, classification_report\n",
    "a5 = accuracy_score(Y_test,pv5)\n",
    "print('Accuracy Score:',a5)\n",
    "print('\\nConfusion Matrix: ',confusion_matrix(Y_test,pv5))\n",
    "print('\\nClassification Report:\\n',classification_report(Y_test,pv5))"
   ]
  },
  {
   "cell_type": "code",
   "execution_count": 30,
   "id": "fa14a060",
   "metadata": {},
   "outputs": [
    {
     "data": {
      "image/png": "[encoded data removed]",
      "text/plain": [
       "<Figure size 432x288 with 1 Axes>"
      ]
     },
     "metadata": {
      "needs_background": "light"
     },
     "output_type": "display_data"
    }
   ],
   "source": [
    "#To check the model with the best accuracy\n",
    "plt.bar(x=['lr','knn','svm_linear','svm_rbf','dt','rf'],height=[a1,a2,a3,a,a4,a5])\n",
    "plt.xlabel(\"Algorithm\")\n",
    "plt.ylabel(\"Accuracy Score\")\n",
    "plt.show()"
   ]
  },
  {
   "cell_type": "code",
   "execution_count": 31,
   "id": "15b86920",
   "metadata": {},
   "outputs": [
    {
     "name": "stdout",
     "output_type": "stream",
     "text": [
      "The model with the best accuracy: Logistic Regression\n"
     ]
    }
   ],
   "source": [
    "print('The model with the best accuracy: Logistic Regression')"
   ]
  }
 ],
 "metadata": {
  "kernelspec": {
   "display_name": "Python 3 (ipykernel)",
   "language": "python",
   "name": "python3"
  },
  "language_info": {
   "codemirror_mode": {
    "name": "ipython",
    "version": 3
   },
   "file_extension": ".py",
   "mimetype": "text/x-python",
   "name": "python",
   "nbconvert_exporter": "python",
   "pygments_lexer": "ipython3",
   "version": "3.9.12"
  }
 },
 "nbformat": 4,
 "nbformat_minor": 5
}
